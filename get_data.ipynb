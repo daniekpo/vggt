{
 "cells": [
  {
   "cell_type": "code",
   "execution_count": 1,
   "metadata": {},
   "outputs": [],
   "source": [
    "from camera_manager import CameraManager\n",
    "\n",
    "camera_manager = CameraManager(camera_names=[\"front_right\"])"
   ]
  },
  {
   "cell_type": "code",
   "execution_count": null,
   "metadata": {},
   "outputs": [],
   "source": []
  },
  {
   "cell_type": "code",
   "execution_count": 2,
   "metadata": {},
   "outputs": [],
   "source": [
    "camera_manager.start_recording_video(fps=10, max_duration_seconds=30, camera_names=[\"front_right\"])"
   ]
  },
  {
   "cell_type": "code",
   "execution_count": 3,
   "metadata": {},
   "outputs": [
    {
     "name": "stdout",
     "output_type": "stream",
     "text": [
      "Video for camera front_right saved to data/new_videos/.mp4\n",
      "Frame timestamps saved to data/new_videos/_timestamps.txt\n"
     ]
    }
   ],
   "source": [
    "import os\n",
    "\n",
    "os.makedirs(\"data/new_videos/\", exist_ok=True)\n",
    "camera_manager.stop_recording_video(save_path=\"data/new_videos/\")"
   ]
  },
  {
   "cell_type": "code",
   "execution_count": 2,
   "metadata": {},
   "outputs": [],
   "source": [
    "from utils.video import get_and_save_video_frames\n",
    "\n",
    "get_and_save_video_frames(video_path=\"data/new_videos/camera_front_right.mp4\", save_dir=\"data/new_videos/frames/front_right/\", fps=5)"
   ]
  },
  {
   "cell_type": "code",
   "execution_count": 9,
   "metadata": {},
   "outputs": [
    {
     "name": "stdout",
     "output_type": "stream",
     "text": [
      "Starting image processing. Output will be saved to: /home/danny/repos/vggt/data/new_videos/frames/front_right/resized\n",
      "--- Processing Summary ---\n",
      "Successfully processed and saved: 7 image(s).\n",
      "Resized images are in: /home/danny/repos/vggt/data/new_videos/frames/front_right/resized\n",
      "Starting image processing. Output will be saved to: /home/danny/repos/vggt/data/new_videos/frames/robot/resized\n",
      "--- Processing Summary ---\n",
      "Successfully processed and saved: 7 image(s).\n",
      "Resized images are in: /home/danny/repos/vggt/data/new_videos/frames/robot/resized\n"
     ]
    }
   ],
   "source": [
    "from resize_images import resize_and_save_images_from_paths\n",
    "\n",
    "frames_ids = list(range(65, 135, 10))\n",
    "file_paths = [f\"data/new_videos/frames/front_right/frame_{frame_id}.png\" for frame_id in frames_ids]\n",
    "\n",
    "save_path = \"data/new_videos/frames/front_right/resized/\"\n",
    "resize_and_save_images_from_paths(file_paths, target_size=518, output_dir=save_path)\n",
    "\n",
    "file_paths = [f\"data/new_videos/frames/robot/frame_{frame_id}.png\" for frame_id in frames_ids]\n",
    "save_path = \"data/new_videos/frames/robot/resized/\"\n",
    "resize_and_save_images_from_paths(file_paths, target_size=518, output_dir=save_path)"
   ]
  }
 ],
 "metadata": {
  "kernelspec": {
   "display_name": "vggt",
   "language": "python",
   "name": "python3"
  },
  "language_info": {
   "codemirror_mode": {
    "name": "ipython",
    "version": 3
   },
   "file_extension": ".py",
   "mimetype": "text/x-python",
   "name": "python",
   "nbconvert_exporter": "python",
   "pygments_lexer": "ipython3",
   "version": "3.10.16"
  }
 },
 "nbformat": 4,
 "nbformat_minor": 2
}
