{
 "cells": [
  {
   "cell_type": "code",
   "execution_count": 1,
   "metadata": {},
   "outputs": [],
   "source": [
    "# %load_ext autoreload\n",
    "# %autoreload 2"
   ]
  },
  {
   "cell_type": "code",
   "execution_count": 2,
   "metadata": {},
   "outputs": [],
   "source": [
    "import torch\n",
    "from vggt.models.vggt import VGGT\n",
    "from vggt.utils.load_fn import load_and_preprocess_images\n",
    "\n",
    "device = \"cuda\"\n",
    "# bfloat16 is supported on Ampere GPUs (Compute Capability 8.0+)\n",
    "dtype = torch.bfloat16 if torch.cuda.get_device_capability()[0] >= 8 else torch.float16\n",
    "\n",
    "# Initialize the model and load the pretrained weights.\n",
    "# This will automatically download the model weights the first time it's run, which may take a while.\n",
    "model = VGGT.from_pretrained(\"facebook/VGGT-1B\").to(device)"
   ]
  },
  {
   "cell_type": "code",
   "execution_count": 3,
   "metadata": {},
   "outputs": [],
   "source": [
    "from vggt.utils.pose_enc import pose_encoding_to_extri_intri\n",
    "from vggt.utils.geometry import unproject_depth_map_to_point_map\n",
    "import os\n",
    "import json\n",
    "import numpy as np\n",
    "\n",
    "image_names = [\"data/resized/images/back_right_3_rgb.png\", \"data/resized/images/front_left_3_rgb.png\", \"data/resized/images/front_right_3_rgb.png\", \"data/resized/images/robot_3_rgb.png\"]\n",
    "images = load_and_preprocess_images(image_names).to(device)\n",
    "\n",
    "with torch.no_grad():\n",
    "    with torch.cuda.amp.autocast(dtype=dtype):\n",
    "        images = images[None]  # add batch dimension\n",
    "        aggregated_tokens_list, ps_idx = model.aggregator(images)\n",
    "\n",
    "    # Predict Cameras\n",
    "    pose_enc = model.camera_head(aggregated_tokens_list)[-1]\n",
    "    extrinsic, intrinsic = pose_encoding_to_extri_intri(pose_enc, images.shape[-2:])\n",
    "    depth_map, depth_conf = model.depth_head(aggregated_tokens_list, images, ps_idx)\n",
    "\n",
    "    point_map, point_conf = model.point_head(aggregated_tokens_list, images, ps_idx)\n",
    "\n",
    "    # Construct 3D Points from Depth Maps and Cameras\n",
    "    # which usually leads to more accurate 3D points than point map branch\n",
    "    point_map_by_unprojection = unproject_depth_map_to_point_map(depth_map.squeeze(0),\n",
    "                                                                extrinsic.squeeze(0),\n",
    "                                                                intrinsic.squeeze(0))"
   ]
  },
  {
   "cell_type": "code",
   "execution_count": 31,
   "metadata": {},
   "outputs": [
    {
     "name": "stdout",
     "output_type": "stream",
     "text": [
      "[array([[297, 262]]), array([[412, 152]]), array([[20, 96]]), array([[300, 137]])]\n"
     ]
    }
   ],
   "source": [
    "import numpy as np\n",
    "import json\n",
    "import torch\n",
    "import torch.nn.functional as F\n",
    "\n",
    "points_list = [\n",
    "    np.array(json.load(open('data/resized/annotations/back_right_3_rgb_points.json'))),\n",
    "    np.array(json.load(open('data/resized/annotations/front_left_random_points.json')))[3][None],\n",
    "    np.array(json.load(open('data/resized/annotations/front_right_random_points.json')))[1][None],\n",
    "    np.array(json.load(open('data/resized/annotations/robot_3_random_points.json')))[5][None]\n",
    "]\n",
    "print(points_list)\n",
    "tracks_results = []\n",
    "\n",
    "with torch.no_grad():\n",
    "\n",
    "    for i in range(len(points_list)):\n",
    "        query_points = torch.FloatTensor(points_list[i]).to(device)\n",
    "        track_list, vis_score, track_feats, query_track_feat, conf_e = model.track_head(\n",
    "            aggregated_tokens_list,\n",
    "            images,\n",
    "            ps_idx,\n",
    "            query_points=query_points[None],\n",
    "            return_feat=True,\n",
    "            query_img_idx=i\n",
    "        )\n",
    "        tracks_results.append((track_list, vis_score, track_feats, query_track_feat, conf_e))\n"
   ]
  },
  {
   "cell_type": "code",
   "execution_count": 32,
   "metadata": {},
   "outputs": [
    {
     "name": "stdout",
     "output_type": "stream",
     "text": [
      "tensor([[ 1.0000,  0.0433, -0.0639,  0.7642],\n",
      "        [ 0.0433,  1.0000,  0.5397,  0.0698],\n",
      "        [-0.0639,  0.5397,  1.0000, -0.0658],\n",
      "        [ 0.7642,  0.0698, -0.0658,  1.0000]], device='cuda:0')\n"
     ]
    }
   ],
   "source": [
    "features = torch.stack([result[3].squeeze(0).squeeze(0) for result in tracks_results])\n",
    "features_normalized = F.normalize(features, p=2, dim=1)\n",
    "\n",
    "similarity_matrix = features_normalized @ features_normalized.T\n",
    "print(similarity_matrix)"
   ]
  },
  {
   "cell_type": "code",
   "execution_count": 25,
   "metadata": {},
   "outputs": [
    {
     "name": "stdout",
     "output_type": "stream",
     "text": [
      "torch.Size([5, 5])\n",
      "tensor([[1.0000, 0.8986, 0.5071, 0.4620, 0.7093],\n",
      "        [0.8986, 1.0000, 0.5422, 0.4628, 0.8168],\n",
      "        [0.5071, 0.5422, 1.0000, 0.7966, 0.7590],\n",
      "        [0.4620, 0.4628, 0.7966, 1.0000, 0.7010],\n",
      "        [0.7093, 0.8168, 0.7590, 0.7010, 1.0000]], device='cuda:0')\n",
      "tensor(0.6656, device='cuda:0')\n"
     ]
    }
   ],
   "source": [
    "import json\n",
    "import numpy as np\n",
    "from PIL import Image\n",
    "import torch\n",
    "import torch.nn.functional as F\n",
    "\n",
    "def get_similarity_matrix(points_list, images, model):\n",
    "    with torch.no_grad():\n",
    "        with torch.cuda.amp.autocast(dtype=dtype):\n",
    "            images = images[None]  # add batch dimension\n",
    "            aggregated_tokens_list, ps_idx = model.aggregator(images)\n",
    "\n",
    "        tracks_results = []\n",
    "        for i in range(len(points_list)):\n",
    "            query_points = torch.FloatTensor(points_list[i]).to(device)\n",
    "            track_list, vis_score, track_feats, query_track_feat, conf_e = model.track_head(\n",
    "                aggregated_tokens_list,\n",
    "                images,\n",
    "                ps_idx,\n",
    "                query_points=query_points[None],\n",
    "                return_feat=True,\n",
    "                query_img_idx=i\n",
    "            )\n",
    "            tracks_results.append((track_list, vis_score, track_feats, query_track_feat, conf_e))\n",
    "\n",
    "        features = torch.stack([result[3].squeeze(0).squeeze(0) for result in tracks_results])\n",
    "        features_normalized = F.normalize(features, p=2, dim=1)\n",
    "\n",
    "        similarity_matrix = features_normalized @ features_normalized.T\n",
    "        return similarity_matrix\n",
    "\n",
    "data_dir = \"data/current_frames/robot\"\n",
    "base_file_names = [\"frame_65\", \"frame_75\", \"frame_85\", \"frame_95\", \"frame_105\", \"frame_115\", \"frame_125\"]\n",
    "\n",
    "points = []\n",
    "image_names = [\n",
    "    \"data/current_frames/robot/frame_65.png\",\n",
    "    \"data/current_frames/robot/frame_75.png\",\n",
    "    \"data/current_frames/robot/frame_85.png\",\n",
    "    \"data/current_frames/robot/frame_95.png\",\n",
    "    \"data/current_frames/robot/frame_105.png\",\n",
    "]\n",
    "\n",
    "points = [\n",
    "    np.array(json.load(open(\"data/current_frames/robot/frame_65_points.json\")))[0][None],\n",
    "    np.array(json.load(open(\"data/current_frames/robot/frame_75_points.json\")))[0][None],\n",
    "    np.array(json.load(open(\"data/current_frames/robot/frame_85_points.json\")))[0][None],\n",
    "    np.array(json.load(open(\"data/current_frames/robot/frame_95_points.json\")))[0][None],\n",
    "    np.array(json.load(open(\"data/current_frames/robot/frame_105_points.json\")))[0][None],\n",
    "]\n",
    "\n",
    "\n",
    "images = load_and_preprocess_images(image_names).to(device)\n",
    "similarity_matrix = get_similarity_matrix(points, images, model)\n",
    "\n",
    "print(similarity_matrix.shape)\n",
    "print(similarity_matrix)\n",
    "# sum the average of the non-diagonal elements\n",
    "print((similarity_matrix.sum() - similarity_matrix.diagonal().sum()) / (similarity_matrix.shape[0] * (similarity_matrix.shape[0] - 1)))\n"
   ]
  },
  {
   "cell_type": "code",
   "execution_count": 9,
   "metadata": {},
   "outputs": [
    {
     "data": {
      "text/plain": [
       "[array([[249,  34],\n",
       "        [252,  78],\n",
       "        [181,  77],\n",
       "        [179,  33],\n",
       "        [233, 203]]),\n",
       " array([[258,  77],\n",
       "        [281, 108],\n",
       "        [224, 144],\n",
       "        [200, 109],\n",
       "        [307, 217]]),\n",
       " array([[225, 152],\n",
       "        [260, 139],\n",
       "        [280, 202],\n",
       "        [244, 214],\n",
       "        [388, 162]]),\n",
       " array([[260, 198],\n",
       "        [286, 167],\n",
       "        [333, 211],\n",
       "        [308, 240],\n",
       "        [141, 208]]),\n",
       " array([[262,  96],\n",
       "        [276,  57],\n",
       "        [337,  78],\n",
       "        [327, 116],\n",
       "        [207, 185]]),\n",
       " array([[174,  84],\n",
       "        [167,  47],\n",
       "        [235,  35],\n",
       "        [242,  77],\n",
       "        [259, 202]]),\n",
       " array([[126, 160],\n",
       "        [122, 122],\n",
       "        [187, 115],\n",
       "        [192, 156],\n",
       "        [202, 252]])]"
      ]
     },
     "execution_count": 9,
     "metadata": {},
     "output_type": "execute_result"
    }
   ],
   "source": [
    "points"
   ]
  }
 ],
 "metadata": {
  "kernelspec": {
   "display_name": "vggt",
   "language": "python",
   "name": "python3"
  },
  "language_info": {
   "codemirror_mode": {
    "name": "ipython",
    "version": 3
   },
   "file_extension": ".py",
   "mimetype": "text/x-python",
   "name": "python",
   "nbconvert_exporter": "python",
   "pygments_lexer": "ipython3",
   "version": "3.10.16"
  }
 },
 "nbformat": 4,
 "nbformat_minor": 2
}
