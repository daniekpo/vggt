{
 "cells": [
  {
   "cell_type": "code",
   "execution_count": 1,
   "metadata": {},
   "outputs": [],
   "source": [
    "# %load_ext autoreload\n",
    "# %autoreload 2"
   ]
  },
  {
   "cell_type": "code",
   "execution_count": 2,
   "metadata": {},
   "outputs": [],
   "source": [
    "import torch\n",
    "from vggt.models.vggt import VGGT\n",
    "from vggt.utils.load_fn import load_and_preprocess_images\n",
    "\n",
    "device = \"cuda\"\n",
    "# bfloat16 is supported on Ampere GPUs (Compute Capability 8.0+)\n",
    "dtype = torch.bfloat16 if torch.cuda.get_device_capability()[0] >= 8 else torch.float16\n",
    "\n",
    "# Initialize the model and load the pretrained weights.\n",
    "# This will automatically download the model weights the first time it's run, which may take a while.\n",
    "model = VGGT.from_pretrained(\"facebook/VGGT-1B\").to(device)"
   ]
  },
  {
   "cell_type": "code",
   "execution_count": 3,
   "metadata": {},
   "outputs": [],
   "source": [
    "from vggt.utils.pose_enc import pose_encoding_to_extri_intri\n",
    "from vggt.utils.geometry import unproject_depth_map_to_point_map\n",
    "import os\n",
    "import json\n",
    "import numpy as np\n",
    "\n",
    "image_names = [\"data/resized/images/back_right_3_rgb.png\", \"data/resized/images/front_left_3_rgb.png\", \"data/resized/images/front_right_3_rgb.png\", \"data/resized/images/robot_3_rgb.png\"]\n",
    "images = load_and_preprocess_images(image_names).to(device)\n",
    "\n",
    "# img_dir = 'data/extracted_frames/robot/'\n",
    "# image_names = [os.path.join(img_dir, img_name) for img_name in os.listdir(img_dir)][:50]\n",
    "# images = load_and_preprocess_images(image_names).to(device)\n",
    "\n",
    "\n",
    "with torch.no_grad():\n",
    "    with torch.cuda.amp.autocast(dtype=dtype):\n",
    "        images = images[None]  # add batch dimension\n",
    "        aggregated_tokens_list, ps_idx = model.aggregator(images)\n",
    "\n",
    "    # Predict Cameras\n",
    "    pose_enc = model.camera_head(aggregated_tokens_list)[-1]\n",
    "\n",
    "    # Extrinsic and intrinsic matrices, following OpenCV convention (camera from world)\n",
    "    extrinsic, intrinsic = pose_encoding_to_extri_intri(pose_enc, images.shape[-2:])\n",
    "\n",
    "    # Predict Depth Maps\n",
    "    depth_map, depth_conf = model.depth_head(aggregated_tokens_list, images, ps_idx)\n",
    "\n",
    "    # Predict Point Maps\n",
    "    point_map, point_conf = model.point_head(aggregated_tokens_list, images, ps_idx)\n",
    "\n",
    "    # Construct 3D Points from Depth Maps and Cameras\n",
    "    # which usually leads to more accurate 3D points than point map branch\n",
    "    point_map_by_unprojection = unproject_depth_map_to_point_map(depth_map.squeeze(0),\n",
    "                                                                extrinsic.squeeze(0),\n",
    "                                                                intrinsic.squeeze(0))\n",
    "\n",
    "    points = json.load(open('data/resized/annotations/robot_3_rgb_points.json'))\n",
    "    points = np.array(points)\n",
    "\n",
    "\n",
    "    # Predict Tracks\n",
    "    query_points = torch.FloatTensor(points).to(device)\n",
    "    track_list, vis_score, conf_score = model.track_head(aggregated_tokens_list, images, ps_idx, query_points=query_points[None])"
   ]
  },
  {
   "cell_type": "code",
   "execution_count": 31,
   "metadata": {},
   "outputs": [
    {
     "name": "stdout",
     "output_type": "stream",
     "text": [
      "[array([[297, 262]]), array([[412, 152]]), array([[20, 96]]), array([[300, 137]])]\n"
     ]
    }
   ],
   "source": [
    "import numpy as np\n",
    "import json\n",
    "import torch\n",
    "import torch.nn.functional as F\n",
    "\n",
    "points_list = [\n",
    "    np.array(json.load(open('data/resized/annotations/back_right_3_rgb_points.json'))),\n",
    "    np.array(json.load(open('data/resized/annotations/front_left_random_points.json')))[3][None],\n",
    "    np.array(json.load(open('data/resized/annotations/front_right_random_points.json')))[1][None],\n",
    "    np.array(json.load(open('data/resized/annotations/robot_3_random_points.json')))[5][None]\n",
    "]\n",
    "print(points_list)\n",
    "tracks_results = []\n",
    "\n",
    "with torch.no_grad():\n",
    "\n",
    "    for i in range(len(points_list)):\n",
    "        query_points = torch.FloatTensor(points_list[i]).to(device)\n",
    "        track_list, vis_score, track_feats, query_track_feat, conf_e = model.track_head(\n",
    "            aggregated_tokens_list,\n",
    "            images,\n",
    "            ps_idx,\n",
    "            query_points=query_points[None],\n",
    "            return_feat=True,\n",
    "            query_img_idx=i\n",
    "        )\n",
    "        tracks_results.append((track_list, vis_score, track_feats, query_track_feat, conf_e))\n"
   ]
  },
  {
   "cell_type": "code",
   "execution_count": 32,
   "metadata": {},
   "outputs": [
    {
     "name": "stdout",
     "output_type": "stream",
     "text": [
      "tensor([[ 1.0000,  0.0433, -0.0639,  0.7642],\n",
      "        [ 0.0433,  1.0000,  0.5397,  0.0698],\n",
      "        [-0.0639,  0.5397,  1.0000, -0.0658],\n",
      "        [ 0.7642,  0.0698, -0.0658,  1.0000]], device='cuda:0')\n"
     ]
    }
   ],
   "source": [
    "features = torch.stack([result[3].squeeze(0).squeeze(0) for result in tracks_results])\n",
    "features_normalized = F.normalize(features, p=2, dim=1)\n",
    "\n",
    "similarity_matrix = features_normalized @ features_normalized.T\n",
    "print(similarity_matrix)"
   ]
  }
 ],
 "metadata": {
  "kernelspec": {
   "display_name": "vggt",
   "language": "python",
   "name": "python3"
  },
  "language_info": {
   "codemirror_mode": {
    "name": "ipython",
    "version": 3
   },
   "file_extension": ".py",
   "mimetype": "text/x-python",
   "name": "python",
   "nbconvert_exporter": "python",
   "pygments_lexer": "ipython3",
   "version": "3.10.16"
  }
 },
 "nbformat": 4,
 "nbformat_minor": 2
}
